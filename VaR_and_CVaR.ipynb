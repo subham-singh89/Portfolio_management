{
 "cells": [
  {
   "cell_type": "code",
   "execution_count": 1,
   "metadata": {},
   "outputs": [],
   "source": [
    "import pandas as pd\n",
    "import risk_kit as rk\n",
    "%load_ext autoreload\n",
    "%autoreload 2"
   ]
  },
  {
   "cell_type": "code",
   "execution_count": 3,
   "metadata": {},
   "outputs": [
    {
     "data": {
      "text/plain": [
       "0    613.913254\n",
       "dtype: float64"
      ]
     },
     "execution_count": 3,
     "metadata": {},
     "output_type": "execute_result"
    }
   ],
   "source": [
    "rk.bond_price(10,1000,0,1,0.05)"
   ]
  },
  {
   "cell_type": "code",
   "execution_count": 57,
   "metadata": {},
   "outputs": [
    {
     "name": "stdout",
     "output_type": "stream",
     "text": [
      "The price of bond B3 is: $613.91\n"
     ]
    }
   ],
   "source": [
    "import numpy as np\n",
    "\n",
    "# Constants\n",
    "face_value = 1000\n",
    "yield_curve = 0.05  # 5% flat yield curve assumption\n",
    "\n",
    "# Bond B3 characteristics (Zero-Coupon Bond)\n",
    "maturity_B3 = 10\n",
    "coupon_rate_B3 = 0  # 0% coupon rate\n",
    "coupons_per_year_B3 = 1\n",
    "\n",
    "# Function to calculate present value of cash flows for a bond\n",
    "def bond_price(face_value, coupon_rate, coupons_per_year, maturity, discount_rate):\n",
    "    coupon_amt = face_value * coupon_rate / coupons_per_year\n",
    "    coupon_times = np.arange(1, maturity * coupons_per_year + 1)\n",
    "    coupon_pv = np.sum(coupon_amt / (1 + discount_rate / coupons_per_year) ** coupon_times)\n",
    "    face_pv = face_value / (1 + discount_rate / coupons_per_year) ** (maturity * coupons_per_year)\n",
    "    price = coupon_pv + face_pv\n",
    "    return price\n",
    "\n",
    "# Calculate the price of bond B3 (Zero-Coupon Bond)\n",
    "price_B3 = bond_price(face_value, coupon_rate_B3, coupons_per_year_B3, maturity_B3, yield_curve)\n",
    "\n",
    "print(f\"The price of bond B3 is: ${price_B3:.2f}\")\n"
   ]
  },
  {
   "cell_type": "markdown",
   "metadata": {},
   "source": []
  },
  {
   "cell_type": "code",
   "execution_count": 32,
   "metadata": {},
   "outputs": [
    {
     "data": {
      "text/plain": [
       "4.373363222636413"
      ]
     },
     "execution_count": 32,
     "metadata": {},
     "output_type": "execute_result"
    }
   ],
   "source": [
    "flow=rk.bond_cash_flows(5,1000,0.06,4)\n",
    "duarion_B2 = rk.macaulay_duration(flow, 0.05/4)/4\n",
    "duarion_B2"
   ]
  },
  {
   "cell_type": "code",
   "execution_count": 34,
   "metadata": {},
   "outputs": [
    {
     "data": {
      "text/plain": [
       "18.745184153809944"
      ]
     },
     "execution_count": 34,
     "metadata": {},
     "output_type": "execute_result"
    }
   ],
   "source": [
    "flow=rk.bond_cash_flows(15,1000,0.05,2)\n",
    "duarion_B1 = rk.macaulay_duration(flow, 0.05/2)/2\n",
    "duration_B1"
   ]
  },
  {
   "cell_type": "code",
   "execution_count": 35,
   "metadata": {},
   "outputs": [
    {
     "data": {
      "text/plain": [
       "nan"
      ]
     },
     "execution_count": 35,
     "metadata": {},
     "output_type": "execute_result"
    }
   ],
   "source": [
    "flow=rk.bond_cash_flows(10,1000,0,1)\n",
    "duarion_B3 = rk.macaulay_duration(flow, 0.05)\n",
    "duration_B3"
   ]
  },
  {
   "cell_type": "code",
   "execution_count": 37,
   "metadata": {},
   "outputs": [
    {
     "name": "stdout",
     "output_type": "stream",
     "text": [
      "6.750917852744651\n"
     ]
    }
   ],
   "source": [
    "import numpy as np\n",
    "import pandas as pd\n",
    "\n",
    "# Example liabilities\n",
    "liabilities = pd.Series([-100000, -200000, -300000], index=[3, 5, 10])\n",
    "\n",
    "# Discount rate (flat yield assumption of 5%)\n",
    "discount_rate = 0.05\n",
    "\n",
    "# Calculate Macaulay Duration\n",
    "duration = rk.macaulay_duration(liabilities, discount_rate)\n",
    "print(duration)\n"
   ]
  },
  {
   "cell_type": "code",
   "execution_count": 41,
   "metadata": {},
   "outputs": [
    {
     "name": "stdout",
     "output_type": "stream",
     "text": [
      "The pair with durations (18.74518415380995, 16.32082218369695) cannot be used to build a duration matched portfolio.\n",
      "The pair with durations (18.74518415380995, 10.0) cannot be used to build a duration matched portfolio.\n",
      "The pair with durations (16.32082218369695, 10.0) cannot be used to build a duration matched portfolio.\n"
     ]
    }
   ],
   "source": [
    "\n",
    "\n",
    "# Constants\n",
    "face_value = 1000\n",
    "yield_curve = 0.05  # 5% flat yield curve assumption\n",
    "\n",
    "# Bond B1 characteristics\n",
    "maturity_B1 = 15\n",
    "coupon_rate_B1 = 0.05\n",
    "coupons_per_year_B1 = 2\n",
    "\n",
    "# Bond B2 characteristics\n",
    "maturity_B2 = 5\n",
    "coupon_rate_B2 = 0.06\n",
    "coupons_per_year_B2 = 4\n",
    "\n",
    "# Bond B3 characteristics (Zero-Coupon Bond)\n",
    "maturity_B3 = 10\n",
    "coupon_rate_B3 = 0  # 0% coupon rate\n",
    "coupons_per_year_B3 = 1\n",
    "\n",
    "# Calculate Macaulay Duration for each bond\n",
    "duration_B1 = rk.macaulay_duration(rk.bond_cash_flows(maturity_B1, face_value, coupon_rate_B1, coupons_per_year_B1), yield_curve)\n",
    "duration_B2 = rk.macaulay_duration(rk.bond_cash_flows(maturity_B2, face_value, coupon_rate_B2, coupons_per_year_B2), yield_curve)\n",
    "duration_B3 = rk.macaulay_duration(rk.bond_cash_flows(maturity_B3, face_value, coupon_rate_B3, coupons_per_year_B3), yield_curve)\n",
    "\n",
    "# Liabilities durations (from Question 7)\n",
    "liabilities_durations = [3, 5, 10]\n",
    "\n",
    "# Check combinations of pairs\n",
    "pairs = [(duration_B1, duration_B2), (duration_B1, duration_B3), (duration_B2, duration_B3)]\n",
    "\n",
    "for pair in pairs:\n",
    "    duration_sum = pair[0] + pair[1]\n",
    "    matched = any(abs(duration_sum - l) < 1e-5 for l in liabilities_durations)\n",
    "    if not matched:\n",
    "        print(f\"The pair with durations {pair} cannot be used to build a duration matched portfolio.\")\n"
   ]
  },
  {
   "cell_type": "code",
   "execution_count": 59,
   "metadata": {},
   "outputs": [
    {
     "name": "stdout",
     "output_type": "stream",
     "text": [
      "The weight of B2 in the portfolio is: 0.5506333430613988\n"
     ]
    }
   ],
   "source": [
    "import numpy as np\n",
    "\n",
    "# Define the bonds\n",
    "bond_b2 = {'face_value': 1000, 'years_to_maturity': 5, 'coupon_rate': 0.06, 'coupons_per_year': 4}\n",
    "bond_b3 = {'face_value': 1000, 'years_to_maturity': 10, 'coupon_rate': 0.0, 'coupons_per_year': 1}\n",
    "\n",
    "# Define the liabilities\n",
    "liabilities = np.array([100000, 200000, 300000])\n",
    "years_to_maturity = np.array([3, 5, 10])\n",
    "\n",
    "# Calculate the cash flows of the bonds\n",
    "def calculate_cash_flows(bond):\n",
    "    face_value = bond['face_value']\n",
    "    years_to_maturity = bond['years_to_maturity']\n",
    "    coupon_rate = bond['coupon_rate']\n",
    "    coupons_per_year = bond['coupons_per_year']\n",
    "    cash_flows = np.zeros(int(years_to_maturity * coupons_per_year))\n",
    "    for i in range(int(years_to_maturity * coupons_per_year)):\n",
    "        if i % (coupons_per_year) == 0 and i!= 0:\n",
    "            cash_flows[i] = face_value * coupon_rate / coupons_per_year\n",
    "        if i == int(years_to_maturity * coupons_per_year) - 1:\n",
    "            cash_flows[i] += face_value\n",
    "    return cash_flows\n",
    "\n",
    "cash_flows_b2 = calculate_cash_flows(bond_b2)\n",
    "cash_flows_b3 = calculate_cash_flows(bond_b3)\n",
    "\n",
    "# Calculate the prices of the bonds\n",
    "def calculate_price(bond, cash_flows, yield_to_maturity):\n",
    "    return np.sum(cash_flows / (1 + yield_to_maturity / bond['coupons_per_year']) ** np.arange(1, len(cash_flows) + 1))\n",
    "\n",
    "yield_to_maturity = 0.05\n",
    "price_b2 = calculate_price(bond_b2, cash_flows_b2, yield_to_maturity)\n",
    "price_b3 = calculate_price(bond_b3, cash_flows_b3, yield_to_maturity)\n",
    "\n",
    "# Calculate the durations of the bonds\n",
    "def calculate_duration(bond, cash_flows, price, yield_to_maturity):\n",
    "    duration = np.sum((np.arange(1, len(cash_flows) + 1) * cash_flows / (1 + yield_to_maturity / bond['coupons_per_year']) ** np.arange(1, len(cash_flows) + 1)) / price)\n",
    "    return duration / bond['coupons_per_year']\n",
    "\n",
    "duration_b2 = calculate_duration(bond_b2, cash_flows_b2, price_b2, yield_to_maturity)\n",
    "duration_b3 = calculate_duration(bond_b3, cash_flows_b3, price_b3, yield_to_maturity)\n",
    "\n",
    "# Calculate the duration of the liabilities\n",
    "duration_liabilities = np.sum(liabilities * years_to_maturity) / np.sum(liabilities)\n",
    "\n",
    "# Calculate the weights of the bonds in the portfolio\n",
    "weight_b2 = (duration_b3 - duration_liabilities) / (duration_b3 - duration_b2)\n",
    "weight_b3 = 1 - weight_b2\n",
    "\n",
    "print(\"The weight of B2 in the portfolio is:\", weight_b2)"
   ]
  },
  {
   "cell_type": "code",
   "execution_count": null,
   "metadata": {},
   "outputs": [],
   "source": []
  }
 ],
 "metadata": {
  "kernelspec": {
   "display_name": "Python 3",
   "language": "python",
   "name": "python3"
  },
  "language_info": {
   "codemirror_mode": {
    "name": "ipython",
    "version": 3
   },
   "file_extension": ".py",
   "mimetype": "text/x-python",
   "name": "python",
   "nbconvert_exporter": "python",
   "pygments_lexer": "ipython3",
   "version": "3.12.2"
  }
 },
 "nbformat": 4,
 "nbformat_minor": 2
}
